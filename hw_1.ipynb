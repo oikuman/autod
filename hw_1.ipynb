{
  "cells": [
    {
      "cell_type": "markdown",
      "metadata": {
        "id": "view-in-github",
        "colab_type": "text"
      },
      "source": [
        "<a href=\"https://colab.research.google.com/github/oikuman/autod/blob/master/hw_1.ipynb\" target=\"_parent\"><img src=\"https://colab.research.google.com/assets/colab-badge.svg\" alt=\"Open In Colab\"/></a>"
      ]
    },
    {
      "cell_type": "markdown",
      "metadata": {
        "id": "YW7n6nHiHjjm"
      },
      "source": [
        "# Homework 1: Numpy, Linear Algenbra, Descriptive Statistics"
      ]
    },
    {
      "cell_type": "code",
      "source": [
        "import numpy as np\n",
        "import statistics as st"
      ],
      "metadata": {
        "id": "BtpU7Po0mwSw"
      },
      "execution_count": null,
      "outputs": []
    },
    {
      "cell_type": "markdown",
      "metadata": {
        "id": "clKepH-IHtJh"
      },
      "source": [
        "В зарплатному опитуванні прийняли участь 15 інженерів:"
      ]
    },
    {
      "cell_type": "code",
      "execution_count": null,
      "metadata": {
        "id": "2RNIQnjcIZLH"
      },
      "outputs": [],
      "source": [
        "salaries = [1500, 2500, 2000, 2300, 1700, 3000, 2500, 5000, 4500, 3000, 1700, 3200, 6100, 3200, 2700]\n"
      ]
    },
    {
      "cell_type": "markdown",
      "metadata": {
        "id": "V1hDd3irIzm0"
      },
      "source": [
        "Викоритовуючи бібліотеку Numpy напишіть код, щоб дізнатись скільки отримують перші 5 опитаних інженерів"
      ]
    },
    {
      "cell_type": "code",
      "execution_count": null,
      "metadata": {
        "id": "XhHEx8poJj-5"
      },
      "outputs": [],
      "source": [
        "first_5 = salaries[:5] # you code here\n"
      ]
    },
    {
      "cell_type": "code",
      "execution_count": null,
      "metadata": {
        "id": "H8eGWhCAJyyH"
      },
      "outputs": [],
      "source": [
        "# small check of you silution. You will receive an error, if result is wrong\n",
        "assert (first_5[1] == 2500) and (len(first_5) == 5),  f\"You calculation is wrong\""
      ]
    },
    {
      "cell_type": "markdown",
      "metadata": {
        "id": "r0WDqYqAL6Cq"
      },
      "source": [
        "А скільки отримує останній опитаний інженер?"
      ]
    },
    {
      "cell_type": "code",
      "execution_count": null,
      "metadata": {
        "id": "6VJ_Za8cMDce"
      },
      "outputs": [],
      "source": [
        "last_one = salaries[-1] #your code"
      ]
    },
    {
      "cell_type": "code",
      "execution_count": null,
      "metadata": {
        "id": "u1H0JbKzMKJf"
      },
      "outputs": [],
      "source": [
        "assert last_one == 2700,  f\"You calculation is wrong\""
      ]
    },
    {
      "cell_type": "markdown",
      "metadata": {
        "id": "nTWsMmaJMR2c"
      },
      "source": [
        "Останні три опитаних інженери працюють в компанії BestCompany. Скільки сумарно отримують інженери цієї компанії?"
      ]
    },
    {
      "cell_type": "code",
      "execution_count": null,
      "metadata": {
        "id": "XXWjl_p1MVsz"
      },
      "outputs": [],
      "source": [
        "#your code\n",
        "sum_last_3 = sum(salaries[-3:]) #your code"
      ]
    },
    {
      "cell_type": "code",
      "execution_count": null,
      "metadata": {
        "id": "SIoDRD56Mb99"
      },
      "outputs": [],
      "source": [
        "assert sum_last_3 == 12000,  f\"You calculation is wrong\""
      ]
    },
    {
      "cell_type": "markdown",
      "metadata": {
        "id": "TyfSdLm1NUNO"
      },
      "source": [
        "А яка середня зарплата в BestCompany?"
      ]
    },
    {
      "cell_type": "code",
      "execution_count": null,
      "metadata": {
        "id": "xYrAltFyNJy5"
      },
      "outputs": [],
      "source": [
        "best_company_mean = np.mean(salaries[-3:]) #your code"
      ]
    },
    {
      "cell_type": "code",
      "execution_count": null,
      "metadata": {
        "id": "OkwZxbU-N5uo"
      },
      "outputs": [],
      "source": [
        "assert best_company_mean == 4000,  f\"You calculation is wrong\""
      ]
    },
    {
      "cell_type": "markdown",
      "metadata": {
        "id": "M10YBw0cODzL"
      },
      "source": [
        "В середньому інженери BestCompany мають вищу зарплатню, ніж інженери на ринку? Значення має бути True, якщо так, і False в протилежному випадку"
      ]
    },
    {
      "cell_type": "code",
      "execution_count": null,
      "metadata": {
        "id": "u0hC129JOCPE"
      },
      "outputs": [],
      "source": [
        "is_more_than_market_avg = np.mean(salaries[-3:]) > np.mean(salaries) #your code"
      ]
    },
    {
      "cell_type": "code",
      "execution_count": null,
      "metadata": {
        "id": "g4GbflOoOvjG"
      },
      "outputs": [],
      "source": [
        "assert is_more_than_market_avg,  f\"You calculation is wrong\""
      ]
    },
    {
      "cell_type": "markdown",
      "metadata": {
        "id": "HVGenGAkPCrS"
      },
      "source": [
        "А яка найпопулярніша зарплата серед інженерів?"
      ]
    },
    {
      "cell_type": "code",
      "execution_count": null,
      "metadata": {
        "id": "jK_Qo8AZPJ7Y",
        "colab": {
          "base_uri": "https://localhost:8080/"
        },
        "outputId": "bbfb48de-6518-445c-bf07-eb65db1e945b"
      },
      "outputs": [
        {
          "output_type": "execute_result",
          "data": {
            "text/plain": [
              "[2500, 1700, 3000, 3200]"
            ]
          },
          "metadata": {},
          "execution_count": 13
        }
      ],
      "source": [
        " most_popular_salary = st.multimode(salaries) #your code\n",
        " most_popular_salary"
      ]
    },
    {
      "cell_type": "markdown",
      "metadata": {
        "id": "tueuoyFSPSsH"
      },
      "source": [
        "50% відсотків інженерів отримують менше або *X* доларів. Порахуйте *X* двома різними способами."
      ]
    },
    {
      "cell_type": "code",
      "execution_count": null,
      "metadata": {
        "id": "jAXKRmQnPz8Z",
        "colab": {
          "base_uri": "https://localhost:8080/"
        },
        "outputId": "843b0dde-b507-4938-f760-cef8c84bbf30"
      },
      "outputs": [
        {
          "output_type": "stream",
          "name": "stdout",
          "text": [
            "2700.0 2700\n"
          ]
        }
      ],
      "source": [
        "m1 = np.percentile(salaries, 50)\n",
        "m2 = st.median(salaries)\n",
        "print(m1, m2)"
      ]
    },
    {
      "cell_type": "markdown",
      "metadata": {
        "id": "MRJLw_qlQQCO"
      },
      "source": [
        "<font color='blue'>**[Optional]**</font> Щоб відпрацювати знання лінійнох алгебри напишіть функцію на чистому Python, яка би повертала матричний добуток двох матриць. Також, зверніть увагу наскільки легше це зробити за допомогою Numpy"
      ]
    },
    {
      "cell_type": "code",
      "execution_count": null,
      "metadata": {
        "id": "NPh-yIp1P3Ak"
      },
      "outputs": [],
      "source": [
        "def matr_product(x, y):\n",
        "\n",
        "  # визначаємо розмірність матриць\n",
        "  x_x = len(x[0])\n",
        "  x_y = len(x)\n",
        "\n",
        "  y_x = len(y[0])\n",
        "  y_y = len(y)\n",
        "\n",
        "  # перевіряємо матриці на узгодженість\n",
        "  if (x_x != y_y):\n",
        "      print(\"Матриці не узгоджені\")\n",
        "      return\n",
        "\n",
        "  m = x_x # рядок, він же стовпчик\n",
        "\n",
        "  # форма матриці результату\n",
        "  rows = x_y\n",
        "  cols = y_x\n",
        "\n",
        "  # заповнюємо її нулями\n",
        "  matrix = [([0]*cols) for i in range(rows)]\n",
        "\n",
        "  # обходимо матрицю результату\n",
        "  for row in range(x_y):\n",
        "      for col in range(y_x):\n",
        "          for i in range(m):\n",
        "              matrix[row][col] += x[row][i] * y[i][col]\n",
        "\n",
        "  return matrix"
      ]
    },
    {
      "cell_type": "code",
      "execution_count": null,
      "metadata": {
        "id": "BWOfneGnQYZQ"
      },
      "outputs": [],
      "source": [
        "#use this code to test your solution\n",
        "a = np.array([\n",
        "    [1, 2],\n",
        "    [3, 4]\n",
        "])\n",
        "b = np.array([\n",
        "    [11, 12],\n",
        "    [13, 14]\n",
        "])\n",
        "assert matr_product(a, b)[0][0] == 37,  f\"You calculation is wrong\""
      ]
    }
  ],
  "metadata": {
    "colab": {
      "provenance": [],
      "include_colab_link": true
    },
    "kernelspec": {
      "display_name": "Python 3",
      "name": "python3"
    },
    "language_info": {
      "codemirror_mode": {
        "name": "ipython",
        "version": 3
      },
      "file_extension": ".py",
      "mimetype": "text/x-python",
      "name": "python",
      "nbconvert_exporter": "python",
      "pygments_lexer": "ipython3",
      "version": "3.8.10"
    }
  },
  "nbformat": 4,
  "nbformat_minor": 0
}